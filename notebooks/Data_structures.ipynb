{
 "cells": [
  {
   "cell_type": "markdown",
   "metadata": {},
   "source": [
    "# Data Structures in Python"
   ]
  },
  {
   "cell_type": "code",
   "execution_count": 1,
   "metadata": {},
   "outputs": [],
   "source": [
    "# linear array of sequences"
   ]
  },
  {
   "cell_type": "markdown",
   "metadata": {},
   "source": [
    "### Container Sequences\n",
    "1. list\n",
    "2. tuple \n",
    "3. collections.deque\n",
    "\n",
    "**1. These can hold different types of elements**</br>\n",
    "**2. Container sequences hold references to the objects they contain, which may be of any type.**</br>"
   ]
  },
  {
   "cell_type": "markdown",
   "metadata": {},
   "source": [
    "## Flat Sequences\n",
    "1. str\n",
    "2. bytes\n",
    "3. bytearray\n",
    "4. Memoryview\n",
    "5. array.array\n",
    "**1. These can hold items of One Type**</br>\n",
    "**2. while flat sequences physically store the value of each item within its own memory space, and not\n",
    "as distinct objects.** </br>\n",
    "**3. Thus, flat sequences are more compact, but they are limited to holding primitive values like characters, bytes, and numbers.**</br>"
   ]
  },
  {
   "cell_type": "markdown",
   "metadata": {},
   "source": [
    "## Grouping sequences based on mutablity"
   ]
  },
  {
   "cell_type": "markdown",
   "metadata": {},
   "source": [
    "### Immutable\n",
    "1. str\n",
    "2. bytes\n",
    "3. tuple\n"
   ]
  },
  {
   "cell_type": "markdown",
   "metadata": {},
   "source": [
    "### Mutable Sequences\n",
    "1. list\n",
    "2. bytearray\n",
    "3. array.array\n",
    "4. memoryview\n",
    "5. collections.deque"
   ]
  },
  {
   "cell_type": "code",
   "execution_count": null,
   "metadata": {},
   "outputs": [],
   "source": []
  }
 ],
 "metadata": {
  "kernelspec": {
   "display_name": "Python 3",
   "language": "python",
   "name": "python3"
  },
  "language_info": {
   "codemirror_mode": {
    "name": "ipython",
    "version": 3
   },
   "file_extension": ".py",
   "mimetype": "text/x-python",
   "name": "python",
   "nbconvert_exporter": "python",
   "pygments_lexer": "ipython3",
   "version": "3.8.2"
  }
 },
 "nbformat": 4,
 "nbformat_minor": 4
}
